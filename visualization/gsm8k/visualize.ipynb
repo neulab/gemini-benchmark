{
 "cells": [
  {
   "cell_type": "code",
   "execution_count": null,
   "metadata": {},
   "outputs": [],
   "source": [
    "from zeno_client import ZenoClient, ZenoMetric\n",
    "import pandas as pd\n",
    "import os\n",
    "import dotenv\n",
    "\n",
    "dotenv.load_dotenv(\"../.env\", override=True)"
   ]
  },
  {
   "cell_type": "code",
   "execution_count": null,
   "metadata": {},
   "outputs": [],
   "source": [
    "OUTPUT_DIR = \"../../outputs/gsm8k\""
   ]
  },
  {
   "cell_type": "code",
   "execution_count": null,
   "metadata": {},
   "outputs": [],
   "source": [
    "models = os.listdir(OUTPUT_DIR)"
   ]
  },
  {
   "cell_type": "code",
   "execution_count": null,
   "metadata": {},
   "outputs": [],
   "source": [
    "# Upload base dataset\n",
    "df = pd.read_json(os.path.join(OUTPUT_DIR, models[0], \"output.jsonl\"), lines=True)\n",
    "base_df = pd.DataFrame(\n",
    "    {\n",
    "        \"qid\": df[\"qid\"],\n",
    "        \"question\": df[\"question\"],\n",
    "        \"answer\": df.apply(\n",
    "            lambda x: x[\"answer_text\"].split(\"<|endoftext|>\")[0], axis=1\n",
    "        ),\n",
    "    }\n",
    ")"
   ]
  },
  {
   "cell_type": "code",
   "execution_count": null,
   "metadata": {},
   "outputs": [],
   "source": [
    "zeno_client = ZenoClient(os.environ.get(\"ZENO_API_KEY\"))"
   ]
  },
  {
   "cell_type": "code",
   "execution_count": null,
   "metadata": {},
   "outputs": [],
   "source": [
    "project = zeno_client.create_project(\n",
    "    name=\"Gemini Evaluation - GSM8k\",\n",
    "    description=\"Evaluation of Gemini, GPT-4, and Mixtral on GSM8k dataset\",\n",
    "    view={\n",
    "        \"data\": {\"type\": \"markdown\"},\n",
    "        \"label\": {\"type\": \"markdown\"},\n",
    "        \"output\": {\"type\": \"markdown\"},\n",
    "    },\n",
    "    public=True,\n",
    "    metrics=[\n",
    "        ZenoMetric(name=\"Accuracy\", type=\"mean\", columns=[\"is_correct\"]),\n",
    "    ],\n",
    ")"
   ]
  },
  {
   "cell_type": "code",
   "execution_count": null,
   "metadata": {},
   "outputs": [],
   "source": [
    "project.upload_dataset(\n",
    "    base_df, id_column=\"qid\", data_column=\"question\", label_column=\"answer\"\n",
    ")"
   ]
  },
  {
   "cell_type": "code",
   "execution_count": null,
   "metadata": {},
   "outputs": [],
   "source": [
    "for model in models:\n",
    "    df = pd.read_json(os.path.join(OUTPUT_DIR, model, \"output.jsonl\"), lines=True)\n",
    "    output_df = pd.DataFrame(\n",
    "        {\n",
    "            \"qid\": df[\"qid\"],\n",
    "            \"output\": df.apply(\n",
    "                lambda x: f\"{x['generated_text']}\\n\\n**{x['predict']}**\", axis=1\n",
    "            ),\n",
    "            \"is_correct\": df[\"is_correct\"].astype(bool),\n",
    "        }\n",
    "    )\n",
    "    project.upload_system(\n",
    "        output_df, name=model, id_column=\"qid\", output_column=\"output\"\n",
    "    )"
   ]
  }
 ],
 "metadata": {
  "kernelspec": {
   "display_name": "zeno-build",
   "language": "python",
   "name": "python3"
  },
  "language_info": {
   "codemirror_mode": {
    "name": "ipython",
    "version": 3
   },
   "file_extension": ".py",
   "mimetype": "text/x-python",
   "name": "python",
   "nbconvert_exporter": "python",
   "pygments_lexer": "ipython3",
   "version": "3.10.13"
  }
 },
 "nbformat": 4,
 "nbformat_minor": 2
}
