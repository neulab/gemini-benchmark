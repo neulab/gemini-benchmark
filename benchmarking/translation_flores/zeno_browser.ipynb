{
 "cells": [
  {
   "cell_type": "markdown",
   "metadata": {},
   "source": [
    "# Analyzing Results with Zeno\n",
    "\n",
    "This notebook shows how to use the Zeno library to analyze the results from our experiments.\n",
    "\n",
    "In order to use the browser first unzip the dataset\n",
    "\n",
    "```bash\n",
    "cd data\n",
    "tar -xzf flores200_dataset.tar.gz\n",
    "cd ..\n",
    "```\n",
    "\n",
    "Then put the results in the `system_outputs` directory.\n",
    "\n",
    "Run this notebook from start to finish.\n",
    "\n",
    "Make sure that it ran without error, then travel to [http://localhost:8000](http://localhost:8000) to see the results."
   ]
  },
  {
   "cell_type": "code",
   "execution_count": 1,
   "metadata": {},
   "outputs": [
    {
     "name": "stderr",
     "output_type": "stream",
     "text": [
      "/home/amuhamed/gemini/zeno/lib/python3.9/site-packages/tqdm/auto.py:21: TqdmWarning: IProgress not found. Please update jupyter and ipywidgets. See https://ipywidgets.readthedocs.io/en/stable/user_install.html\n",
      "  from .autonotebook import tqdm as notebook_tqdm\n"
     ]
    }
   ],
   "source": [
    "import pandas as pd\n",
    "import tarfile\n",
    "import tempfile\n",
    "import os\n",
    "import csv\n",
    "import evaluate\n",
    "import math\n",
    "from datasets import load_dataset\n",
    "\n",
    "from zeno import MetricReturn, ZenoOptions, metric, distill, DistillReturn\n",
    "from zeno_build.evaluation.text_features.length import input_length, output_length\n",
    "from zeno_build.evaluation.text_metrics.critique import (\n",
    "    avg_bert_score,\n",
    "    bert_score,\n",
    ")\n",
    "from zeno_build.experiments.experiment_run import ExperimentRun\n",
    "from zeno_build.reporting.visualize import visualize\n"
   ]
  },
  {
   "cell_type": "code",
   "execution_count": 2,
   "metadata": {},
   "outputs": [],
   "source": [
    "# trg_langs_with_gpt4_results = [\"lvs_Latn\", \"tpi_Latn\", \"ukr_Cyrl\", \"lim_Latn\", \"kat_Geor\", \"tam_Taml\", \"mag_Deva\", \"hau_Latn\", \"fra_Latn\", \"acm_Arab\", \"ssw_Latn\", \"kmr_Latn\", \"war_Latn\", \"ajp_Arab\", \"pbt_Arab\", \"gle_Latn\", \"ron_Latn\", \"sna_Latn\", \"ckb_Arab\", \"ibo_Latn\"]\n",
    "trg_langs = [\"ssw_Latn\"]"
   ]
  },
  {
   "cell_type": "code",
   "execution_count": 5,
   "metadata": {},
   "outputs": [],
   "source": [
    "# read `data/flores200_dataset.tar.gz`\n",
    "# Create a temporary directory\n",
    "tmpdirname = '/home/amuhamed/gemini/gpt_mt_benchmark/data/'\n",
    "          \n",
    "# Extract the archive contents to the temp directory\n",
    "# with tarfile.open(\"data/flores200_dataset.tar.gz\", \"r:gz\") as tar:\n",
    "#     tar.extractall(tmpdirname)\n",
    "# Read the contents of English\n",
    "with open(os.path.join(tmpdirname, \"flores200_dataset\", \"devtest\", \"devtest.eng_Latn\"), \"r\") as f:\n",
    "    src_data = [x.strip() for x in f.readlines()] * len(trg_langs)\n",
    "# Read the contents of the target language\n",
    "trg_data = []\n",
    "trg_lang_data = []\n",
    "for trg_lang in trg_langs:\n",
    "    with open(os.path.join(tmpdirname, \"flores200_dataset\", \"devtest\", f\"devtest.{trg_lang}\"), \"r\") as f:\n",
    "        trg_data.extend([x.strip() for x in f.readlines()])\n",
    "    trg_lang_data.extend([trg_lang] * 1012)\n",
    "# The dev set is 997 sentences, so it should be that times number of languages\n",
    "if not len(trg_data) == 1012 * len(trg_langs):\n",
    "    raise ValueError(f\"{len(trg_data)=} != {1012 * len(trg_langs)=}\")\n",
    "\n",
    "# Create the pandas dataframe\n",
    "df = pd.DataFrame({\"source\": src_data, \"label\": trg_data, \"trg_lang\": trg_lang_data})"
   ]
  },
  {
   "cell_type": "code",
   "execution_count": 7,
   "metadata": {},
   "outputs": [],
   "source": [
    "def load_hyp_from_tsv(filename: str) -> list[str]:\n",
    "    with open(filename, \"r\") as f:\n",
    "        # Load the third column from the csv reader after the header\n",
    "        reader = csv.reader(f, delimiter=\"\\t\")\n",
    "        next(reader)\n",
    "        return [x[2] for x in reader]\n",
    "\n",
    "# get all the files in the system_outputs folder\n",
    "experiment_runs = []\n",
    "system_outputs_path = '/home/amuhamed/gemini/gpt_mt_benchmark/exp_outputs_tsv/'\n",
    "for subdir in os.listdir(system_outputs_path):\n",
    "    # The sub_directory must be a directory\n",
    "    subdir_path = os.path.join(system_outputs_path, subdir)\n",
    "    if not os.path.isdir(subdir_path):\n",
    "        raise ValueError(f\"{subdir_path=} is not a directory\")\n",
    "    # get all the files in the sub_directory\n",
    "    all_files = os.listdir(subdir_path)\n",
    "    trg_results = []\n",
    "    for trg_lang in trg_langs:\n",
    "        # find the tsv file\n",
    "        trg_file = [f for f in all_files if f.endswith(f\"{trg_lang}.tsv\")]\n",
    "        if len(trg_file) == 1:\n",
    "            trg_results.extend(load_hyp_from_tsv(os.path.join(subdir_path, trg_file[0])))\n",
    "            continue\n",
    "        # find the hyp file\n",
    "        trg_file = [f for f in all_files if f.endswith(f\"{trg_lang}-devtest.hyp\")]\n",
    "        if len(trg_file) == 1:\n",
    "            with open(os.path.join(subdir_path, trg_file[0]), \"r\") as f:\n",
    "                trg_results.extend([x.strip() for x in f.readlines()])\n",
    "            continue\n",
    "        # Die\n",
    "        raise ValueError(f\"Expected tsv or hyp file with {trg_lang=} but found none in {subdir_path}\")\n",
    "    if not len(trg_results) == 1012 * len(trg_langs):\n",
    "        raise ValueError(f\"{len(trg_results)=} != {1012 * len(trg_langs)=}\")\n",
    "    experiment_run = ExperimentRun(\n",
    "        name=subdir,\n",
    "        parameters={\"name\": subdir},\n",
    "        predictions=trg_results,\n",
    "    )\n",
    "    experiment_runs.append(experiment_run)\n",
    "    "
   ]
  },
  {
   "cell_type": "code",
   "execution_count": null,
   "metadata": {},
   "outputs": [],
   "source": []
  },
  {
   "cell_type": "code",
   "execution_count": 9,
   "metadata": {},
   "outputs": [
    {
     "name": "stderr",
     "output_type": "stream",
     "text": [
      "Downloading builder script: 100%|███████████████████████████████████████████████████████████████████████████████████████████████████████████████████████████████████████████| 9.01k/9.01k [00:00<00:00, 43.2MB/s]\n"
     ]
    }
   ],
   "source": [
    "chrf_evaluator = evaluate.load(\"chrf\")\n",
    "\n",
    "@distill\n",
    "def chrf(df, ops: ZenoOptions):\n",
    "    outputs = df[ops.output_column]\n",
    "    labels = df[ops.label_column]\n",
    "    results = [\n",
    "        chrf_evaluator.compute(predictions=[o], references=[[l]])[\"score\"] for o, l in zip(outputs, labels)\n",
    "    ]\n",
    "    return DistillReturn(distill_output=results)\n",
    "\n",
    "@metric\n",
    "def avg_chrf(df, ops: ZenoOptions):\n",
    "    avg = df[ops.distill_columns[\"chrf\"]].mean()\n",
    "    if pd.isnull(avg) or math.isnan(avg):\n",
    "        return MetricReturn(metric=0)\n",
    "    return MetricReturn(metric=avg)"
   ]
  },
  {
   "cell_type": "code",
   "execution_count": 10,
   "metadata": {},
   "outputs": [
    {
     "name": "stdout",
     "output_type": "stream",
     "text": [
      "tt-zero {'name': 'tt-zero'}\n",
      "WARNING: no id_column specified, using index as id_column. If you are using a data_column, suggest using it as id_column.\n",
      "\n",
      "\u001b[1mZeno\u001b[0m running on http://localhost:8000\n",
      "Running predistill functions\n",
      "\n"
     ]
    },
    {
     "name": "stderr",
     "output_type": "stream",
     "text": [
      "preprocessing input_length: 100%|█████████████████████████████████████████████████████████████████████████████████████████████████████████████████████████████████████████████████| 1/1 [00:00<00:00, 248.29it/s]\n"
     ]
    },
    {
     "name": "stdout",
     "output_type": "stream",
     "text": [
      "Running inference\n"
     ]
    },
    {
     "name": "stderr",
     "output_type": "stream",
     "text": [
      "Inference on tt-zero: 100%|███████████████████████████████████████████████████████████████████████████████████████████████████████████████████████████████████████████████████████| 1/1 [00:00<00:00, 257.73it/s]\n"
     ]
    },
    {
     "name": "stdout",
     "output_type": "stream",
     "text": [
      "Running postdistill functions\n"
     ]
    },
    {
     "name": "stderr",
     "output_type": "stream",
     "text": [
      "postprocessing output_length on tt-zero: 100%|████████████████████████████████████████████████████████████████████████████████████████████████████████████████████████████████████| 1/1 [00:00<00:00, 447.30it/s]\n",
      "\n",
      "postprocessing chrf on tt-zero:   0%|                                                                                                                                                      | 0/1 [00:00<?, ?it/s]\u001b[A\n",
      "postprocessing chrf on tt-zero: 100%|██████████████████████████████████████████████████████████████████████████████████████████████████████████████████████████████████████████████| 1/1 [00:04<00:00,  4.03s/it]\u001b[A\n"
     ]
    },
    {
     "name": "stdout",
     "output_type": "stream",
     "text": [
      "Done processing\n"
     ]
    },
    {
     "name": "stderr",
     "output_type": "stream",
     "text": [
      "/home/amuhamed/gemini/zeno/lib/python3.9/site-packages/zeno/processing/histogram_processing.py:95: FutureWarning: The default of observed=False is deprecated and will be changed to True in a future version of pandas. Pass observed=False to retain current behavior or observed=True to adopt the future default and silence this warning.\n",
      "  filt_df.groupby([pd.cut(filt_df[str(col)], bucs)])  # type: ignore\n",
      "/home/amuhamed/gemini/zeno/lib/python3.9/site-packages/zeno/processing/histogram_processing.py:95: FutureWarning: The default of observed=False is deprecated and will be changed to True in a future version of pandas. Pass observed=False to retain current behavior or observed=True to adopt the future default and silence this warning.\n",
      "  filt_df.groupby([pd.cut(filt_df[str(col)], bucs)])  # type: ignore\n",
      "/home/amuhamed/gemini/zeno/lib/python3.9/site-packages/zeno/processing/histogram_processing.py:95: FutureWarning: The default of observed=False is deprecated and will be changed to True in a future version of pandas. Pass observed=False to retain current behavior or observed=True to adopt the future default and silence this warning.\n",
      "  filt_df.groupby([pd.cut(filt_df[str(col)], bucs)])  # type: ignore\n",
      "/home/amuhamed/gemini/zeno/lib/python3.9/site-packages/zeno/processing/histogram_processing.py:95: FutureWarning: The default of observed=False is deprecated and will be changed to True in a future version of pandas. Pass observed=False to retain current behavior or observed=True to adopt the future default and silence this warning.\n",
      "  filt_df.groupby([pd.cut(filt_df[str(col)], bucs)])  # type: ignore\n",
      "/home/amuhamed/gemini/zeno/lib/python3.9/site-packages/zeno/processing/histogram_processing.py:95: FutureWarning: The default of observed=False is deprecated and will be changed to True in a future version of pandas. Pass observed=False to retain current behavior or observed=True to adopt the future default and silence this warning.\n",
      "  filt_df.groupby([pd.cut(filt_df[str(col)], bucs)])  # type: ignore\n",
      "/home/amuhamed/gemini/zeno/lib/python3.9/site-packages/zeno/processing/histogram_processing.py:95: FutureWarning: The default of observed=False is deprecated and will be changed to True in a future version of pandas. Pass observed=False to retain current behavior or observed=True to adopt the future default and silence this warning.\n",
      "  filt_df.groupby([pd.cut(filt_df[str(col)], bucs)])  # type: ignore\n",
      "/home/amuhamed/gemini/zeno/lib/python3.9/site-packages/zeno/processing/histogram_processing.py:95: FutureWarning: The default of observed=False is deprecated and will be changed to True in a future version of pandas. Pass observed=False to retain current behavior or observed=True to adopt the future default and silence this warning.\n",
      "  filt_df.groupby([pd.cut(filt_df[str(col)], bucs)])  # type: ignore\n",
      "/home/amuhamed/gemini/zeno/lib/python3.9/site-packages/zeno/processing/histogram_processing.py:95: FutureWarning: The default of observed=False is deprecated and will be changed to True in a future version of pandas. Pass observed=False to retain current behavior or observed=True to adopt the future default and silence this warning.\n",
      "  filt_df.groupby([pd.cut(filt_df[str(col)], bucs)])  # type: ignore\n",
      "/home/amuhamed/gemini/zeno/lib/python3.9/site-packages/zeno/processing/histogram_processing.py:95: FutureWarning: The default of observed=False is deprecated and will be changed to True in a future version of pandas. Pass observed=False to retain current behavior or observed=True to adopt the future default and silence this warning.\n",
      "  filt_df.groupby([pd.cut(filt_df[str(col)], bucs)])  # type: ignore\n",
      "/home/amuhamed/gemini/zeno/lib/python3.9/site-packages/zeno/processing/histogram_processing.py:95: FutureWarning: The default of observed=False is deprecated and will be changed to True in a future version of pandas. Pass observed=False to retain current behavior or observed=True to adopt the future default and silence this warning.\n",
      "  filt_df.groupby([pd.cut(filt_df[str(col)], bucs)])  # type: ignore\n",
      "/home/amuhamed/gemini/zeno/lib/python3.9/site-packages/zeno/processing/histogram_processing.py:95: FutureWarning: The default of observed=False is deprecated and will be changed to True in a future version of pandas. Pass observed=False to retain current behavior or observed=True to adopt the future default and silence this warning.\n",
      "  filt_df.groupby([pd.cut(filt_df[str(col)], bucs)])  # type: ignore\n",
      "/home/amuhamed/gemini/zeno/lib/python3.9/site-packages/zeno/processing/histogram_processing.py:95: FutureWarning: The default of observed=False is deprecated and will be changed to True in a future version of pandas. Pass observed=False to retain current behavior or observed=True to adopt the future default and silence this warning.\n",
      "  filt_df.groupby([pd.cut(filt_df[str(col)], bucs)])  # type: ignore\n",
      "/home/amuhamed/gemini/zeno/lib/python3.9/site-packages/zeno/processing/histogram_processing.py:95: FutureWarning: The default of observed=False is deprecated and will be changed to True in a future version of pandas. Pass observed=False to retain current behavior or observed=True to adopt the future default and silence this warning.\n",
      "  filt_df.groupby([pd.cut(filt_df[str(col)], bucs)])  # type: ignore\n",
      "/home/amuhamed/gemini/zeno/lib/python3.9/site-packages/zeno/processing/histogram_processing.py:95: FutureWarning: The default of observed=False is deprecated and will be changed to True in a future version of pandas. Pass observed=False to retain current behavior or observed=True to adopt the future default and silence this warning.\n",
      "  filt_df.groupby([pd.cut(filt_df[str(col)], bucs)])  # type: ignore\n",
      "/home/amuhamed/gemini/zeno/lib/python3.9/site-packages/zeno/processing/histogram_processing.py:95: FutureWarning: The default of observed=False is deprecated and will be changed to True in a future version of pandas. Pass observed=False to retain current behavior or observed=True to adopt the future default and silence this warning.\n",
      "  filt_df.groupby([pd.cut(filt_df[str(col)], bucs)])  # type: ignore\n",
      "/home/amuhamed/gemini/zeno/lib/python3.9/site-packages/zeno/processing/histogram_processing.py:95: FutureWarning: The default of observed=False is deprecated and will be changed to True in a future version of pandas. Pass observed=False to retain current behavior or observed=True to adopt the future default and silence this warning.\n",
      "  filt_df.groupby([pd.cut(filt_df[str(col)], bucs)])  # type: ignore\n",
      "/home/amuhamed/gemini/zeno/lib/python3.9/site-packages/zeno/processing/histogram_processing.py:95: FutureWarning: The default of observed=False is deprecated and will be changed to True in a future version of pandas. Pass observed=False to retain current behavior or observed=True to adopt the future default and silence this warning.\n",
      "  filt_df.groupby([pd.cut(filt_df[str(col)], bucs)])  # type: ignore\n",
      "/home/amuhamed/gemini/zeno/lib/python3.9/site-packages/zeno/processing/histogram_processing.py:95: FutureWarning: The default of observed=False is deprecated and will be changed to True in a future version of pandas. Pass observed=False to retain current behavior or observed=True to adopt the future default and silence this warning.\n",
      "  filt_df.groupby([pd.cut(filt_df[str(col)], bucs)])  # type: ignore\n",
      "/home/amuhamed/gemini/zeno/lib/python3.9/site-packages/zeno/processing/histogram_processing.py:95: FutureWarning: The default of observed=False is deprecated and will be changed to True in a future version of pandas. Pass observed=False to retain current behavior or observed=True to adopt the future default and silence this warning.\n",
      "  filt_df.groupby([pd.cut(filt_df[str(col)], bucs)])  # type: ignore\n",
      "/home/amuhamed/gemini/zeno/lib/python3.9/site-packages/zeno/processing/histogram_processing.py:95: FutureWarning: The default of observed=False is deprecated and will be changed to True in a future version of pandas. Pass observed=False to retain current behavior or observed=True to adopt the future default and silence this warning.\n",
      "  filt_df.groupby([pd.cut(filt_df[str(col)], bucs)])  # type: ignore\n"
     ]
    }
   ],
   "source": [
    "functions = [\n",
    "    output_length,\n",
    "    input_length,\n",
    "    chrf,\n",
    "    avg_chrf,\n",
    "    # bert_score,\n",
    "    # avg_bert_score,\n",
    "]\n",
    "\n",
    "visualize(\n",
    "    df,\n",
    "    trg_data,\n",
    "    experiment_runs,\n",
    "    \"text-classification\",\n",
    "    \"source\",\n",
    "    functions,\n",
    "    zeno_config={\"cache_path\": \"zeno_cache\"},\n",
    "    \n",
    ")\n",
    "     "
   ]
  },
  {
   "cell_type": "code",
   "execution_count": null,
   "metadata": {},
   "outputs": [],
   "source": []
  }
 ],
 "metadata": {
  "kernelspec": {
   "display_name": "Python 3 (ipykernel)",
   "language": "python",
   "name": "python3"
  },
  "language_info": {
   "codemirror_mode": {
    "name": "ipython",
    "version": 3
   },
   "file_extension": ".py",
   "mimetype": "text/x-python",
   "name": "python",
   "nbconvert_exporter": "python",
   "pygments_lexer": "ipython3",
   "version": "3.9.12"
  }
 },
 "nbformat": 4,
 "nbformat_minor": 4
}
